{
 "cells": [
  {
   "cell_type": "markdown",
   "metadata": {},
   "source": [
    "## ▶️ Variables"
   ]
  },
  {
   "cell_type": "markdown",
   "metadata": {},
   "source": [
    "Python has no command for declaring a variable. <br/>\n",
    "A variable name must start with a letter (a-z, A-Z) or an underscore (_). <br/>\n",
    "The remaining characters can be letters, numbers, or underscores. <br/>\n",
    "Variable names are case-sensitive (e.g., myVar and myvar are different). \n",
    "\n",
    "<br/> \n",
    "\n",
    "Python Data Type:- int: Integer (e.g., x = 5) <br/>\n",
    "                   float: Floating-point number (e.g., y = 3.14) <br/>\n",
    "                   str: String (e.g., name = \"John\") <br/>\n",
    "                   bool: Boolean (e.g., is_valid = True)\n",
    "\n",
    "\n",
    "<br/>                   \n",
    "\n",
    "Python Type Function:- <br/>\n",
    "The type() function returns the data type of a variable. <br/>\n",
    "Example: print(type(x))\n",
    "\n",
    "<br/>\n",
    "\n",
    "Python Variable Scope:- <br/>\n",
    "Variables can be local or global. <br/>\n",
    "Local variables are defined inside a function and are only accessible within that function. <br/>\n",
    "Global variables are defined outside functions and can be accessed throughout the program.\n",
    "\n",
    "<br/>\n",
    "\n",
    "Immutable vs. Mutable Types:- <br/>\n",
    "Immutable types (e.g., int, float, str) cannot be modified after creation. <br/>\n",
    "Mutable types (e.g., list, dict) can be modified after creation."
   ]
  },
  {
   "cell_type": "markdown",
   "metadata": {},
   "source": [
    "## ▶️ Python Control Flow\n",
    "\n",
    "\n",
    "### Conditional Statements (if, elif, else):-\n",
    "\n"
   ]
  }
 ],
 "metadata": {
  "language_info": {
   "name": "python"
  }
 },
 "nbformat": 4,
 "nbformat_minor": 2
}
